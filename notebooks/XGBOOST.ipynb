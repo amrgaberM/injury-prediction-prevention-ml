{
  "nbformat": 4,
  "nbformat_minor": 0,
  "metadata": {
    "colab": {
      "provenance": []
    },
    "kernelspec": {
      "name": "python3",
      "display_name": "Python 3"
    },
    "language_info": {
      "name": "python"
    }
  },
  "cells": [
    {
      "cell_type": "markdown",
      "source": [
        "# XGBoost Model for Injury Risk Prediction\n",
        "\n",
        "This notebook trains an XGBoost model to predict injury risk levels (Low, Medium, High) for athletes based on their training and physical attributes. The pipeline includes data loading, preprocessing, feature engineering, model training with hyperparameter tuning, probability calibration, and evaluation.\n",
        "\n",
        "## Objectives\n",
        "- Load and preprocess the dataset consistently with the RandomForest model.\n",
        "- Perform feature engineering to create meaningful features.\n",
        "- Train an XGBoost model with hyperparameter tuning.\n",
        "- Calibrate probabilities to ensure reliable confidence scores.\n",
        "- Evaluate the model using appropriate metrics and visualizations.\n",
        "- Save the model and encoder for use in the prediction pipeline."
      ],
      "metadata": {
        "id": "X4Q8pyQ9mKOa"
      }
    },
    {
      "cell_type": "code",
      "execution_count": 1,
      "metadata": {
        "id": "X4Q8pyQ9mKOa"
      },
      "outputs": [],
      "source": [
        "# Import libraries\n",
        "import os\n",
        "import pandas as pd\n",
        "import numpy as np\n",
        "import xgboost as xgb\n",
        "import joblib\n",
        "import matplotlib.pyplot as plt\n",
        "import seaborn as sns\n",
        "from sklearn.model_selection import train_test_split, GridSearchCV\n",
        "from sklearn.metrics import classification_report, confusion_matrix, f1_score, accuracy_score\n",
        "from sklearn.preprocessing import LabelEncoder\n",
        "from imblearn.over_sampling import SMOTE\n",
        "from sklearn.calibration import CalibratedClassifierCV\n",
        "\n",
        "# Set seed for reproducibility\n",
        "np.random.seed(42)"
      ]
    },
    {
      "cell_type": "code",
      "source": [
        "# ---------------------- 1. Load Dataset ----------------------\n",
        "# Load the dataset\n",
        "df = pd.read_csv(\"/content/Refined_Sports_Injury_Dataset.csv\")\n",
        "\n",
        "# Display dataset info\n",
        "print(\"Dataset loaded. Shape:\", df.shape)\n",
        "print(\"\\nDataset Info:\")\n",
        "print(df.info())\n",
        "print(\"\\nClass Distribution:\")\n",
        "print(df[\"Injury_Risk_Level\"].value_counts())"
      ],
      "metadata": {
        "id": "AkHrpR7omsxv",
        "colab": {
          "base_uri": "https://localhost:8080/"
        },
        "outputId": "e685149d-3638-4c1c-9261-be48b842afab"
      },
      "execution_count": 2,
      "outputs": [
        {
          "output_type": "stream",
          "name": "stdout",
          "text": [
            "Dataset loaded. Shape: (10000, 18)\n",
            "\n",
            "Dataset Info:\n",
            "<class 'pandas.core.frame.DataFrame'>\n",
            "RangeIndex: 10000 entries, 0 to 9999\n",
            "Data columns (total 18 columns):\n",
            " #   Column                        Non-Null Count  Dtype  \n",
            "---  ------                        --------------  -----  \n",
            " 0   Age                           10000 non-null  int64  \n",
            " 1   Gender                        10000 non-null  object \n",
            " 2   Sport_Type                    10000 non-null  object \n",
            " 3   Experience_Level              10000 non-null  object \n",
            " 4   Flexibility_Score             10000 non-null  float64\n",
            " 5   Total_Weekly_Training_Hours   10000 non-null  float64\n",
            " 6   High_Intensity_Training_Hours 10000 non-null  float64\n",
            " 7   Strength_Training_Frequency   10000 non-null  int64  \n",
            " 8   Recovery_Time_Between_Sessions 10000 non-null  float64\n",
            " 9   Training_Load_Score           10000 non-null  float64\n",
            " 10  Sprint_Speed                  10000 non-null  float64\n",
            " 11  Endurance_Score               10000 non-null  float64\n",
            " 12  Agility_Score                 10000 non-null  float64\n",
            " 13  Fatigue_Level                 10000 non-null  int64  \n",
            " 14  Previous_Injury_Count         10000 non-null  int64  \n",
            " 15  Previous_Injury_Type          10000 non-null  object \n",
            " 16  Injury_Risk_Level             10000 non-null  object \n",
            " 17  Injury_Outcome                10000 non-null  int64  \n",
            "dtypes: float64(8), int64(5), object(5)\n",
            "memory usage: 1.4+ MB\n",
            "None\n",
            "\n",
            "Class Distribution:\n",
            "Injury_Risk_Level\n",
            "Medium    6014\n",
            "Low       2832\n",
            "High      1154\n",
            "Name: count, dtype: int64\n"
          ]
        }
      ]
    },
    {
      "cell_type": "code",
      "source": [
        "# ---------------------- 2. Encode Categorical Columns ----------------------\n",
        "print(\"\\n🔠 Encoding categorical columns...\")\n",
        "\n",
        "# Define mappings for categorical variables (consistent with RandomForest)\n",
        "gender_mapping = {\"Male\": 0, \"Female\": 1}\n",
        "experience_mapping = {\"Beginner\": 0, \"Intermediate\": 1, \"Advanced\": 2, \"Professional\": 3}\n",
        "injury_type_mapping = {\"None\": 0, \"Sprain\": 1, \"Ligament Tear\": 2, \"Tendonitis\": 3, \"Strain\": 4, \"Fracture\": 5}\n",
        "\n",
        "# Encode Gender\n",
        "df[\"Gender\"] = df[\"Gender\"].map(gender_mapping).fillna(0).astype(int)\n",
        "\n",
        "# Encode Sport_Type dynamically\n",
        "df[\"Sport_Type\"] = df[\"Sport_Type\"].astype(\"category\").cat.codes\n",
        "\n",
        "# Encode Experience_Level\n",
        "df[\"Experience_Level\"] = df[\"Experience_Level\"].map(experience_mapping).fillna(0).astype(int)\n",
        "\n",
        "# Encode Previous_Injury_Type\n",
        "df[\"Previous_Injury_Type\"] = df[\"Previous_Injury_Type\"].map(injury_type_mapping).fillna(0).astype(int)\n",
        "\n",
        "# Encode Target\n",
        "le = LabelEncoder()\n",
        "df[\"Injury_Risk_Level\"] = le.fit_transform(df[\"Injury_Risk_Level\"].astype(str))\n",
        "\n",
        "# Verify encoding\n",
        "print(\"Encoded class mapping:\", dict(zip(le.classes_, range(len(le.classes_)))))\n",
        "print(\"Sample of encoded data:\\n\", df.head())"
      ],
      "metadata": {
        "id": "B4MoE4YtKU0d",
        "colab": {
          "base_uri": "https://localhost:8080/"
        },
        "outputId": "e685149d-3638-4c1c-9261-be48b842afab"
      },
      "execution_count": 3,
      "outputs": [
        {
          "output_type": "stream",
          "name": "stdout",
          "text": [
            "\n",
            "🔠 Encoding categorical columns...\n",
            "Encoded class mapping: {'High': 0, 'Low': 1, 'Medium': 2}\n",
            "Sample of encoded data:\n",
            "    Age  Gender  Sport_Type  Experience_Level  Flexibility_Score  \\\n",
            "0   34       0           2                 0                7.2   \n",
            "1   29       1           4                 3                8.5   \n",
            "2   31       0           2                 2                6.8   \n",
            "3   27       1           0                 1                7.9   \n",
            "4   33       0           3                 2                6.5   \n",
            "\n",
            "   Total_Weekly_Training_Hours  High_Intensity_Training_Hours  \\\n",
            "0                         12.0                            4.0   \n",
            "1                          8.0                            2.0   \n",
            "2                         15.0                            6.0   \n",
            "3                         10.0                            3.0   \n",
            "4                          9.0                            3.0   \n",
            "\n",
            "   Strength_Training_Frequency  Recovery_Time_Between_Sessions  \\\n",
            "0                            3                            48.0   \n",
            "1                            2                            72.0   \n",
            "2                            4                            36.0   \n",
            "3                            2                            60.0   \n",
            "4                            3                            48.0   \n",
            "\n",
            "   Training_Load_Score  Sprint_Speed  Endurance_Score  Agility_Score  \\\n",
            "0                 65.0           6.8              7.5            7.0   \n",
            "1                 45.0           7.2              8.0            8.2   \n",
            "2                 80.0           6.5              7.0            6.8   \n",
            "3                 55.0           7.0              7.8            7.5   \n",
            "4                 60.0           6.7              7.2            6.9   \n",
            "\n",
            "   Fatigue_Level  Previous_Injury_Count  Previous_Injury_Type  \\\n",
            "0              4                      1                     1   \n",
            "1              2                      0                     0   \n",
            "2              6                      2                     2   \n",
            "3              3                      0                     0   \n",
            "4              5                      1                     3   \n",
            "\n",
            "   Injury_Risk_Level  Injury_Outcome  \n",
            "0                  2               0  \n",
            "1                  1               0  \n",
            "2                  0               1  \n",
            "3                  1               0  \n",
            "4                  2               0  \n"
          ]
        }
      ]
    },
    {
      "cell_type": "code",
      "source": [
        "# ---------------------- 3. Feature Engineering ----------------------\n",
        "print(\"\\n🛠️ Creating derived features...\")\n",
        "\n",
        "# Replace 0 with 0.1 in Total_Weekly_Training_Hours to avoid division by zero\n",
        "df[\"Total_Weekly_Training_Hours\"] = df[\"Total_Weekly_Training_Hours\"].replace(0, 0.1)\n",
        "\n",
        "# Create derived features\n",
        "df[\"Intensity_Ratio\"] = df[\"High_Intensity_Training_Hours\"] / df[\"Total_Weekly_Training_Hours\"]\n",
        "df[\"Recovery_Per_Training\"] = df[\"Recovery_Time_Between_Sessions\"] / df[\"Total_Weekly_Training_Hours\"]\n",
        "\n",
        "# Define features (removed Predicted_Injury_Type)\n",
        "features = [\n",
        "    \"Age\", \"Gender\", \"Sport_Type\", \"Experience_Level\", \"Flexibility_Score\",\n",
        "    \"Total_Weekly_Training_Hours\", \"High_Intensity_Training_Hours\", \"Strength_Training_Frequency\",\n",
        "    \"Recovery_Time_Between_Sessions\", \"Training_Load_Score\", \"Sprint_Speed\", \"Endurance_Score\",\n",
        "    \"Agility_Score\", \"Fatigue_Level\", \"Previous_Injury_Count\", \"Previous_Injury_Type\",\n",
        "    \"Intensity_Ratio\", \"Recovery_Per_Training\"\n",
        "]\n",
        "\n",
        "# Prepare features and target\n",
        "X = df[features]\n",
        "y = df[\"Injury_Risk_Level\"]\n",
        "\n",
        "# Verify features\n",
        "print(\"Features created:\", features)\n",
        "print(\"Sample of features:\\n\", X.head())"
      ],
      "metadata": {
        "id": "M4xvzYqzKU-9",
        "colab": {
          "base_uri": "https://localhost:8080/"
        },
        "outputId": "e685149d-3638-4c1c-9261-be48b842afab"
      },
      "execution_count": 4,
      "outputs": [
        {
          "output_type": "stream",
          "name": "stdout",
          "text": [
            "\n",
            "🛠️ Creating derived features...\n",
            "Features created: ['Age', 'Gender', 'Sport_Type', 'Experience_Level', 'Flexibility_Score', 'Total_Weekly_Training_Hours', 'High_Intensity_Training_Hours', 'Strength_Training_Frequency', 'Recovery_Time_Between_Sessions', 'Training_Load_Score', 'Sprint_Speed', 'Endurance_Score', 'Agility_Score', 'Fatigue_Level', 'Previous_Injury_Count', 'Previous_Injury_Type', 'Intensity_Ratio', 'Recovery_Per_Training']\n",
            "Sample of features:\n",
            "    Age  Gender  Sport_Type  Experience_Level  Flexibility_Score  \\\n",
            "0   34       0           2                 0                7.2   \n",
            "1   29       1           4                 3                8.5   \n",
            "2   31       0           2                 2                6.8   \n",
            "3   27       1           0                 1                7.9   \n",
            "4   33       0           3                 2                6.5   \n",
            "\n",
            "   Total_Weekly_Training_Hours  High_Intensity_Training_Hours  \\\n",
            "0                         12.0                            4.0   \n",
            "1                          8.0                            2.0   \n",
            "2                         15.0                            6.0   \n",
            "3                         10.0                            3.0   \n",
            "4                          9.0                            3.0   \n",
            "\n",
            "   Strength_Training_Frequency  Recovery_Time_Between_Sessions  \\\n",
            "0                            3                            48.0   \n",
            "1                            2                            72.0   \n",
            "2                            4                            36.0   \n",
            "3                            2                            60.0   \n",
            "4                            3                            48.0   \n",
            "\n",
            "   Training_Load_Score  Sprint_Speed  Endurance_Score  Agility_Score  \\\n",
            "0                 65.0           6.8              7.5            7.0   \n",
            "1                 45.0           7.2              8.0            8.2   \n",
            "2                 80.0           6.5              7.0            6.8   \n",
            "3                 55.0           7.0              7.8            7.5   \n",
            "4                 60.0           6.7              7.2            6.9   \n",
            "\n",
            "   Fatigue_Level  Previous_Injury_Count  Previous_Injury_Type  Intensity_Ratio  \\\n",
            "0              4                      1                     1        0.333333   \n",
            "1              2                      0                     0        0.250000   \n",
            "2              6                      2                     2        0.400000   \n",
            "3              3                      0                     0        0.300000   \n",
            "4              5                      1                     3        0.333333   \n",
            "\n",
            "   Recovery_Per_Training  \n",
            "0                    4.0  \n",
            "1                    9.0  \n",
            "2                    2.4  \n",
            "3                    6.0  \n",
            "4                    5.3  \n"
          ]
        }
      ]
    },
    {
      "cell_type": "code",
      "source": [
        "# ---------------------- 4. Train/Test Split & SMOTE ----------------------\n",
        "print(\"\\n📊 Splitting data & applying SMOTE...\")\n",
        "\n",
        "# Split data into train and test sets\n",
        "X_train, X_test, y_train, y_test = train_test_split(X, y, stratify=y, test_size=0.2, random_state=42)\n",
        "\n",
        "# Apply SMOTE to balance the training set\n",
        "X_train_res, y_train_res = SMOTE(random_state=42).fit_resample(X_train, y_train)\n",
        "\n",
        "# Print class distribution after SMOTE\n",
        "print(\"Training set class distribution after SMOTE:\")\n",
        "print(pd.Series(y_train_res).value_counts())"
      ],
      "metadata": {
        "id": "GtyXbFTsKVUS",
        "colab": {
          "base_uri": "https://localhost:8080/"
        },
        "outputId": "e685149d-3638-4c1c-9261-be48b842afab"
      },
      "execution_count": 5,
      "outputs": [
        {
          "output_type": "stream",
          "name": "stdout",
          "text": [
            "\n",
            "📊 Splitting data & applying SMOTE...\n",
            "Training set class distribution after SMOTE:\n",
            "0    4811\n",
            "1    4811\n",
            "2    4811\n",
            "Name: count, dtype: int64\n"
          ]
        }
      ]
    },
    {
      "cell_type": "code",
      "source": [
        "# ---------------------- 5. Hyperparameter Tuning with GridSearchCV ----------------------\n",
        "print(\"\\n🔍 Performing hyperparameter tuning...\")\n",
        "\n",
        "# Define XGBoost model\n",
        "xgb_model = xgb.XGBClassifier(\n",
        "    objective=\"multi:softprob\",\n",
        "    eval_metric=\"mlogloss\",\n",
        "    num_class=len(le.classes_),\n",
        "    random_state=42\n",
        ")\n",
        "\n",
        "# Define hyperparameter grid\n",
        "param_grid = {\n",
        "    'n_estimators': [100, 200, 300],\n",
        "    'max_depth': [5, 10, 15],\n",
        "    'learning_rate': [0.01, 0.1, 0.3],\n",
        "    'subsample': [0.8, 1.0]\n",
        "}\n",
        "\n",
        "# Perform grid search with cross-validation\n",
        "grid_search = GridSearchCV(estimator=xgb_model, param_grid=param_grid, cv=5, scoring='f1_macro', n_jobs=-1)\n",
        "grid_search.fit(X_train_res, y_train_res)\n",
        "\n",
        "# Get best model\n",
        "best_xgb = grid_search.best_estimator_\n",
        "print(\"Best hyperparameters:\", grid_search.best_params_)\n",
        "print(\"Best cross-validation F1-score:\", grid_search.best_score_)"
      ],
      "metadata": {
        "id": "CFoUgTwZKVf3",
        "colab": {
          "base_uri": "https://localhost:8080/"
        },
        "outputId": "aae9b818-ef59-48e9-bb06-e079913edaf5"
      },
      "execution_count": 6,
      "outputs": [
        {
          "output_type": "stream",
          "name": "stdout",
          "text": [
            "\n",
            "🔍 Performing hyperparameter tuning...\n",
            "Best hyperparameters: {'learning_rate': 0.1, 'max_depth': 15, 'n_estimators': 300, 'subsample': 1.0}\n",
            "Best cross-validation F1-score: 0.9561784041412857\n"
          ]
        }
      ]
    },
    {
      "cell_type": "code",
      "source": [
        "# ---------------------- 6. Calibrate Probabilities ----------------------\n",
        "print(\"\\n📏 Calibrating probabilities...\")\n",
        "\n",
        "# Calibrate the best model using CalibratedClassifierCV\n",
        "calibrated_xgb = CalibratedClassifierCV(best_xgb, method='sigmoid', cv=5)\n",
        "calibrated_xgb.fit(X_train_res, y_train_res)\n",
        "\n",
        "# Evaluate calibrated model on test set\n",
        "y_pred = calibrated_xgb.predict(X_test)\n",
        "y_proba = calibrated_xgb.predict_proba(X_test)\n",
        "\n",
        "# Print evaluation metrics\n",
        "print(\"\\n📈 Model Evaluation on Test Set:\")\n",
        "print(\"F1 Score (Macro):\", f1_score(y_test, y_pred, average=\"macro\"))\n",
        "print(\"Accuracy:\", accuracy_score(y_test, y_pred))\n",
        "print(\"\\nClassification Report:\\n\", classification_report(y_test, y_pred, target_names=le.classes_))"
      ],
      "metadata": {
        "id": "5Fgs6oHUKVwK",
        "colab": {
          "base_uri": "https://localhost:8080/"
        },
        "outputId": "c2f9145f-8f25-40ef-b1d9-26d85332cc2f"
      },
      "execution_count": 7,
      "outputs": [
        {
          "output_type": "stream",
          "name": "stdout",
          "text": [
            "\n",
            "📏 Calibrating probabilities...\n",
            "\n",
            "📈 Model Evaluation on Test Set:\n",
            "F1 Score (Macro): 0.9154651493598866\n",
            "Accuracy: 0.929\n",
            "\n",
            "Classification Report:\n",
            "               precision    recall  f1-score   support\n",
            "\n",
            "        High       0.82      0.90      0.86       231\n",
            "         Low       0.93      0.94      0.94       566\n",
            "      Medium       0.95      0.93      0.94      1203\n",
            "\n",
            "    accuracy                           0.93      2000\n",
            "   macro avg       0.90      0.93      0.92      2000\n",
            "weighted avg       0.93      0.93      0.93      2000\n"
          ]
        }
      ]
    },
    {
      "cell_type": "code",
      "source": [
        "# ---------------------- 7. Visual Insights ----------------------\n",
        "print(\"\\n📉 Generating visualizations...\")\n",
        "\n",
        "# Confusion Matrix\n",
        "conf_matrix = confusion_matrix(y_test, y_pred)\n",
        "plt.figure(figsize=(8, 6))\n",
        "sns.heatmap(conf_matrix, annot=True, fmt=\"g\", cmap=\"Blues\", xticklabels=le.classes_, yticklabels=le.classes_)\n",
        "plt.title(\"Confusion Matrix - XGBoost\")\n",
        "plt.xlabel(\"Predicted\")\n",
        "plt.ylabel(\"True\")\n",
        "plt.savefig(\"model/xgb_confusion_matrix.png\")\n",
        "plt.close()\n",
        "\n",
        "# Feature Importance\n",
        "feat_imp = pd.DataFrame({\"Feature\": features, \"Importance\": best_xgb.feature_importances_})\n",
        "feat_imp.sort_values(\"Importance\", ascending=False, inplace=True)\n",
        "plt.figure(figsize=(10, 6))\n",
        "sns.barplot(x=\"Importance\", y=\"Feature\", data=feat_imp)\n",
        "plt.title(\"Feature Importances - XGBoost\")\n",
        "plt.tight_layout()\n",
        "plt.savefig(\"model/xgb_feature_importance.png\")\n",
        "plt.close()\n",
        "\n",
        "print(\"Visuals saved to model/ directory.\")"
      ],
      "metadata": {
        "id": "5Fgs6oHUKVwK",
        "colab": {
          "base_uri": "https://localhost:8080/"
        },
        "outputId": "c2f9145f-8f25-40ef-b1d9-26d85332cc2f"
      },
      "execution_count": 8,
      "outputs": [
        {
          "output_type": "stream",
          "name": "stdout",
          "text": [
            "\n",
            "📉 Generating visualizations...\n",
            "Visuals saved to model/ directory.\n"
          ]
        }
      ]
    },
    {
      "cell_type": "code",
      "source": [
        "# ---------------------- 8. Save Model and Encoder ----------------------\n",
        "print(\"\\n💾 Saving model and encoder...\")\n",
        "\n",
        "# Create model directory if it doesn't exist\n",
        "os.makedirs(\"model\", exist_ok=True)\n",
        "\n",
        "# Save the calibrated model\n",
        "joblib.dump(calibrated_xgb, \"model/xgboost_injury_model.pkl\")\n",
        "\n",
        "# Save the label encoder\n",
        "joblib.dump(le, \"model/xgb_target_encoder.pkl\")\n",
        "\n",
        "print(\"Model and encoder saved to model/ directory.\")"
      ],
      "metadata": {
        "id": "4bvmzxoJKlI1",
        "colab": {
          "base_uri": "https://localhost:8080/"
        },
        "outputId": "5753ab2c-7494-48f8-98df-ad70c45377b7"
      },
      "execution_count": 9,
      "outputs": [
        {
          "output_type": "stream",
          "name": "stdout",
          "text": [
            "\n",
            "💾 Saving model and encoder...\n",
            "Model and encoder saved to model/ directory.\n"
          ]
        }
      ]
    }
  ]
}